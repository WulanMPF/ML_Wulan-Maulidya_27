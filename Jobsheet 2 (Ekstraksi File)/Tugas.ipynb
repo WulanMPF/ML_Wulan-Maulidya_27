{
  "nbformat": 4,
  "nbformat_minor": 0,
  "metadata": {
    "colab": {
      "provenance": [],
      "authorship_tag": "ABX9TyOBhfk2z+dtF9TlewgZn0zF",
      "include_colab_link": true
    },
    "kernelspec": {
      "name": "python3",
      "display_name": "Python 3"
    },
    "language_info": {
      "name": "python"
    }
  },
  "cells": [
    {
      "cell_type": "markdown",
      "metadata": {
        "id": "view-in-github",
        "colab_type": "text"
      },
      "source": [
        "<a href=\"https://colab.research.google.com/github/WulanMPF/ML_Wulan-Maulidya_27/blob/main/Jobsheet%202%20(Ekstraksi%20File)/Tugas.ipynb\" target=\"_parent\"><img src=\"https://colab.research.google.com/assets/colab-badge.svg\" alt=\"Open In Colab\"/></a>"
      ]
    },
    {
      "cell_type": "code",
      "execution_count": null,
      "metadata": {
        "id": "4pt2Bk_6dA4z"
      },
      "outputs": [],
      "source": []
    }
  ]
}