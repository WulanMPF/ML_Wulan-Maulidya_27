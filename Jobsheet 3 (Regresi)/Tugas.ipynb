{
 "cells": [
  {
   "cell_type": "markdown",
   "metadata": {},
   "source": [
    "# TUGAS\n",
    "Tugas Praktikum: Multiple Linear Regression dan Support Vector Regression (SVR) dengan Dataset Medical Cost Personal Datasets\n",
    "\n",
    "**Instruksi Umum:**\n",
    "\n",
    "1. Anda akan menggunakan dataset \"Medical Cost Personal Datasets\". Pastikan Anda telah mengunduh dataset ini.\n",
    "\n",
    "2. Gunakan bahasa pemrograman Python dan library yang sesuai seperti NumPy, Pandas, Matplotlib dan Scikit-Learn untuk melakukan analisis regresi dan SVR.\n",
    "\n",
    "**Tugas 1: Multiple Linear Regression**\n",
    "1. Identifikasi variabel-variabel yang akan digunakan sebagai variabel bebas (fitur) dan variabel target (biaya medis personal).\n",
    "\n",
    "2. Bagi dataset menjadi data latih (train) dan data uji (test) dengan proporsi yang sesuai.\n",
    "\n",
    "3. Lakukan feature scaling jika diperlukan.\n",
    "\n",
    "4. Buat model multiple linear regression menggunakan Scikit-Learn.\n",
    "\n",
    "5. Latih model pada data latih dan lakukan prediksi pada data uji.\n",
    "\n",
    "6. Evaluasi model dengan menghitung metrik seperti R-squared, MSE, dan MAE. Tampilkan hasil evaluasi.\n",
    "\n",
    "**Catatan Tambahan:**\n",
    "* Pastikan untuk memberikan penjelasan singkat tentang dataset yang digunakan, termasuk deskripsi variabel-variabel yang relevan.\n",
    "\n",
    "* Tampilkan visualisasi data yang relevan seperti scatter plot atau grafik lainnya jika diperlukan untuk pemahaman yang lebih baik.\n",
    "\n",
    "* Analisis hasil yang Anda dapatkan dalam tugas praktikum Anda.\n",
    "\n",
    "**Pengumpulan Tugas**\n",
    "\n",
    "Tugas praktikum ini dikumpulkan dalam bentuk laporan berformat dokumen (.doc) dan kode program Python yang digunakan (dalam format .py atau .ipynb). Tugas dikumpulkan ke dosen pengampu sesuai dengan jadwal yang telah ditentukan.\n",
    "\n",
    "Selamat mengerjakan tugas praktikum! Jika Anda mengalami kesulitan, jangan ragu untuk berkonsultasi dengan dosen pengampu\n"
   ]
  },
  {
   "cell_type": "markdown",
   "metadata": {},
   "source": [
    "# JAWABAN\n",
    "**1. Identifikasi variabel-variabel yang akan digunakan sebagai variabel bebas (fitur) dan variabel target (biaya medis personal).**"
   ]
  },
  {
   "cell_type": "markdown",
   "metadata": {},
   "source": [
    "Dataset dimuat menggunakan library pandas, kemudian dilakukan seleksi fitur untuk memilih variabel mana saja yang akan digunakan. Dalam hal ini variabel yang akan diproses adalah variabel 'age', 'bmi', 'children', 'smoker', 'region', dan 'charges' karena variabel-variabel tersebut adalah variabel yang berpengaruh terhadap biaya pengobatan"
   ]
  },
  {
   "cell_type": "code",
   "execution_count": 27,
   "metadata": {},
   "outputs": [
    {
     "data": {
      "text/html": [
       "<div>\n",
       "<style scoped>\n",
       "    .dataframe tbody tr th:only-of-type {\n",
       "        vertical-align: middle;\n",
       "    }\n",
       "\n",
       "    .dataframe tbody tr th {\n",
       "        vertical-align: top;\n",
       "    }\n",
       "\n",
       "    .dataframe thead th {\n",
       "        text-align: right;\n",
       "    }\n",
       "</style>\n",
       "<table border=\"1\" class=\"dataframe\">\n",
       "  <thead>\n",
       "    <tr style=\"text-align: right;\">\n",
       "      <th></th>\n",
       "      <th>age</th>\n",
       "      <th>bmi</th>\n",
       "      <th>children</th>\n",
       "      <th>smoker</th>\n",
       "      <th>region</th>\n",
       "      <th>charges</th>\n",
       "    </tr>\n",
       "  </thead>\n",
       "  <tbody>\n",
       "    <tr>\n",
       "      <th>0</th>\n",
       "      <td>19</td>\n",
       "      <td>27.900</td>\n",
       "      <td>0</td>\n",
       "      <td>yes</td>\n",
       "      <td>southwest</td>\n",
       "      <td>16884.92400</td>\n",
       "    </tr>\n",
       "    <tr>\n",
       "      <th>1</th>\n",
       "      <td>18</td>\n",
       "      <td>33.770</td>\n",
       "      <td>1</td>\n",
       "      <td>no</td>\n",
       "      <td>southeast</td>\n",
       "      <td>1725.55230</td>\n",
       "    </tr>\n",
       "    <tr>\n",
       "      <th>2</th>\n",
       "      <td>28</td>\n",
       "      <td>33.000</td>\n",
       "      <td>3</td>\n",
       "      <td>no</td>\n",
       "      <td>southeast</td>\n",
       "      <td>4449.46200</td>\n",
       "    </tr>\n",
       "    <tr>\n",
       "      <th>3</th>\n",
       "      <td>33</td>\n",
       "      <td>22.705</td>\n",
       "      <td>0</td>\n",
       "      <td>no</td>\n",
       "      <td>northwest</td>\n",
       "      <td>21984.47061</td>\n",
       "    </tr>\n",
       "    <tr>\n",
       "      <th>4</th>\n",
       "      <td>32</td>\n",
       "      <td>28.880</td>\n",
       "      <td>0</td>\n",
       "      <td>no</td>\n",
       "      <td>northwest</td>\n",
       "      <td>3866.85520</td>\n",
       "    </tr>\n",
       "  </tbody>\n",
       "</table>\n",
       "</div>"
      ],
      "text/plain": [
       "   age     bmi  children smoker     region      charges\n",
       "0   19  27.900         0    yes  southwest  16884.92400\n",
       "1   18  33.770         1     no  southeast   1725.55230\n",
       "2   28  33.000         3     no  southeast   4449.46200\n",
       "3   33  22.705         0     no  northwest  21984.47061\n",
       "4   32  28.880         0     no  northwest   3866.85520"
      ]
     },
     "execution_count": 27,
     "metadata": {},
     "output_type": "execute_result"
    }
   ],
   "source": [
    "# Load library\n",
    "import pandas as pd\n",
    "from sklearn.preprocessing import LabelEncoder\n",
    "\n",
    "# Load dataset\n",
    "data = pd.read_csv('insurance.csv')\n",
    "\n",
    "# Seleksi Fitur\n",
    "data = data[\n",
    "    ['age', 'bmi', 'children', 'smoker', 'region', 'charges']]\n",
    "\n",
    "data.head()"
   ]
  },
  {
   "cell_type": "markdown",
   "metadata": {},
   "source": [
    "Variabel 'smoker', dan 'region' di-encode ke dalam bentuk numerik menggunakan LabelEncoder karena model regresi bekerja menggunakan data dalam bentuk numerik."
   ]
  },
  {
   "cell_type": "code",
   "execution_count": 29,
   "metadata": {},
   "outputs": [
    {
     "data": {
      "text/html": [
       "<div>\n",
       "<style scoped>\n",
       "    .dataframe tbody tr th:only-of-type {\n",
       "        vertical-align: middle;\n",
       "    }\n",
       "\n",
       "    .dataframe tbody tr th {\n",
       "        vertical-align: top;\n",
       "    }\n",
       "\n",
       "    .dataframe thead th {\n",
       "        text-align: right;\n",
       "    }\n",
       "</style>\n",
       "<table border=\"1\" class=\"dataframe\">\n",
       "  <thead>\n",
       "    <tr style=\"text-align: right;\">\n",
       "      <th></th>\n",
       "      <th>age</th>\n",
       "      <th>bmi</th>\n",
       "      <th>children</th>\n",
       "      <th>smoker</th>\n",
       "      <th>region</th>\n",
       "      <th>charges</th>\n",
       "    </tr>\n",
       "  </thead>\n",
       "  <tbody>\n",
       "    <tr>\n",
       "      <th>0</th>\n",
       "      <td>19</td>\n",
       "      <td>27.900</td>\n",
       "      <td>0</td>\n",
       "      <td>1</td>\n",
       "      <td>3</td>\n",
       "      <td>16884.92400</td>\n",
       "    </tr>\n",
       "    <tr>\n",
       "      <th>1</th>\n",
       "      <td>18</td>\n",
       "      <td>33.770</td>\n",
       "      <td>1</td>\n",
       "      <td>0</td>\n",
       "      <td>2</td>\n",
       "      <td>1725.55230</td>\n",
       "    </tr>\n",
       "    <tr>\n",
       "      <th>2</th>\n",
       "      <td>28</td>\n",
       "      <td>33.000</td>\n",
       "      <td>3</td>\n",
       "      <td>0</td>\n",
       "      <td>2</td>\n",
       "      <td>4449.46200</td>\n",
       "    </tr>\n",
       "    <tr>\n",
       "      <th>3</th>\n",
       "      <td>33</td>\n",
       "      <td>22.705</td>\n",
       "      <td>0</td>\n",
       "      <td>0</td>\n",
       "      <td>1</td>\n",
       "      <td>21984.47061</td>\n",
       "    </tr>\n",
       "    <tr>\n",
       "      <th>4</th>\n",
       "      <td>32</td>\n",
       "      <td>28.880</td>\n",
       "      <td>0</td>\n",
       "      <td>0</td>\n",
       "      <td>1</td>\n",
       "      <td>3866.85520</td>\n",
       "    </tr>\n",
       "  </tbody>\n",
       "</table>\n",
       "</div>"
      ],
      "text/plain": [
       "   age     bmi  children  smoker  region      charges\n",
       "0   19  27.900         0       1       3  16884.92400\n",
       "1   18  33.770         1       0       2   1725.55230\n",
       "2   28  33.000         3       0       2   4449.46200\n",
       "3   33  22.705         0       0       1  21984.47061\n",
       "4   32  28.880         0       0       1   3866.85520"
      ]
     },
     "execution_count": 29,
     "metadata": {},
     "output_type": "execute_result"
    }
   ],
   "source": [
    "# Encoding\n",
    "le = LabelEncoder()\n",
    "data['smoker'] = le.fit_transform(data['smoker'])\n",
    "data['region'] = le.fit_transform(data['region'])\n",
    "\n",
    "data.head()"
   ]
  },
  {
   "cell_type": "markdown",
   "metadata": {},
   "source": [
    "* Variabel Bebas (Fitur): 'age', 'bmi', 'children', 'smoker', dan 'region' karena umur, indeks masa tubuh, jumlah anak, status perokok, dan wilayah dapat mempengaruhi biaya medis pasien.\n",
    "* Variabel Target (Biaya Medis Personal): 'charges' karena mewakili biaya medis personal yang didapat dari hasil proses pengobatan yang dilakukan dan merupakan variabel yang ingin dipredisksi / dijelaskan oleh model regresi."
   ]
  },
  {
   "cell_type": "code",
   "execution_count": 30,
   "metadata": {},
   "outputs": [
    {
     "data": {
      "text/html": [
       "<div>\n",
       "<style scoped>\n",
       "    .dataframe tbody tr th:only-of-type {\n",
       "        vertical-align: middle;\n",
       "    }\n",
       "\n",
       "    .dataframe tbody tr th {\n",
       "        vertical-align: top;\n",
       "    }\n",
       "\n",
       "    .dataframe thead th {\n",
       "        text-align: right;\n",
       "    }\n",
       "</style>\n",
       "<table border=\"1\" class=\"dataframe\">\n",
       "  <thead>\n",
       "    <tr style=\"text-align: right;\">\n",
       "      <th></th>\n",
       "      <th>age</th>\n",
       "      <th>bmi</th>\n",
       "      <th>children</th>\n",
       "      <th>smoker</th>\n",
       "      <th>region</th>\n",
       "      <th>charges</th>\n",
       "    </tr>\n",
       "  </thead>\n",
       "  <tbody>\n",
       "    <tr>\n",
       "      <th>0</th>\n",
       "      <td>19</td>\n",
       "      <td>27.900</td>\n",
       "      <td>0</td>\n",
       "      <td>1</td>\n",
       "      <td>3</td>\n",
       "      <td>16884.92400</td>\n",
       "    </tr>\n",
       "    <tr>\n",
       "      <th>1</th>\n",
       "      <td>18</td>\n",
       "      <td>33.770</td>\n",
       "      <td>1</td>\n",
       "      <td>0</td>\n",
       "      <td>2</td>\n",
       "      <td>1725.55230</td>\n",
       "    </tr>\n",
       "    <tr>\n",
       "      <th>2</th>\n",
       "      <td>28</td>\n",
       "      <td>33.000</td>\n",
       "      <td>3</td>\n",
       "      <td>0</td>\n",
       "      <td>2</td>\n",
       "      <td>4449.46200</td>\n",
       "    </tr>\n",
       "    <tr>\n",
       "      <th>3</th>\n",
       "      <td>33</td>\n",
       "      <td>22.705</td>\n",
       "      <td>0</td>\n",
       "      <td>0</td>\n",
       "      <td>1</td>\n",
       "      <td>21984.47061</td>\n",
       "    </tr>\n",
       "    <tr>\n",
       "      <th>4</th>\n",
       "      <td>32</td>\n",
       "      <td>28.880</td>\n",
       "      <td>0</td>\n",
       "      <td>0</td>\n",
       "      <td>1</td>\n",
       "      <td>3866.85520</td>\n",
       "    </tr>\n",
       "  </tbody>\n",
       "</table>\n",
       "</div>"
      ],
      "text/plain": [
       "   age     bmi  children  smoker  region      charges\n",
       "0   19  27.900         0       1       3  16884.92400\n",
       "1   18  33.770         1       0       2   1725.55230\n",
       "2   28  33.000         3       0       2   4449.46200\n",
       "3   33  22.705         0       0       1  21984.47061\n",
       "4   32  28.880         0       0       1   3866.85520"
      ]
     },
     "execution_count": 30,
     "metadata": {},
     "output_type": "execute_result"
    }
   ],
   "source": [
    "# Identifikasi variabel bebas dan target\n",
    "X = data[['age', 'bmi', 'children', 'smoker', 'region']]\n",
    "y = data['charges']\n",
    "\n",
    "data.head()"
   ]
  },
  {
   "cell_type": "markdown",
   "metadata": {},
   "source": [
    "**2. Bagi dataset menjadi data latih (train) dan data uji (test) dengan proporsi yang sesuai.**"
   ]
  },
  {
   "cell_type": "markdown",
   "metadata": {},
   "source": [
    "Dataset dibagi menjadi data latih (80%), dan data uji (20%) menggunakan train_test_split. Dimana data latih digunakan untuk melatih model, dan sata uji digunakan untuk mengevaluasi model."
   ]
  },
  {
   "cell_type": "code",
   "execution_count": 31,
   "metadata": {},
   "outputs": [
    {
     "name": "stdout",
     "output_type": "stream",
     "text": [
      "Data Latih: \n",
      "      age    bmi  children  smoker  region\n",
      "560    46  19.95         2       0       1\n",
      "1285   47  24.32         0       0       0\n",
      "1142   52  24.86         0       0       2\n",
      "969    39  34.32         5       0       2\n",
      "486    54  21.47         3       0       1\n",
      "\n",
      "Data Uji: \n",
      "      age     bmi  children  smoker  region\n",
      "764    45  25.175         2       0       0\n",
      "887    36  30.020         0       0       1\n",
      "890    64  26.885         0       1       1\n",
      "1293   46  25.745         3       0       1\n",
      "259    19  31.920         0       1       1\n",
      "\n",
      "Target Data Latih: \n",
      "560      9193.83850\n",
      "1285     8534.67180\n",
      "1142    27117.99378\n",
      "969      8596.82780\n",
      "486     12475.35130\n",
      "Name: charges, dtype: float64\n",
      "\n",
      "Target Data Uji: \n",
      "764      9095.06825\n",
      "887      5272.17580\n",
      "890     29330.98315\n",
      "1293     9301.89355\n",
      "259     33750.29180\n",
      "Name: charges, dtype: float64\n"
     ]
    }
   ],
   "source": [
    "# Load Library\n",
    "from sklearn.model_selection import train_test_split  \n",
    "\n",
    "# Pembagian data menjadi data latih dan data uji\n",
    "X_train, X_test, y_train, y_test = train_test_split(X, y, test_size=0.2, random_state=42)\n",
    "\n",
    "# Tampilkan data latih (X_train)\n",
    "print(\"Data Latih: \")\n",
    "print(X_train.head())\n",
    "\n",
    "# Tampilkan data uji (X_test)\n",
    "print(\"\\nData Uji: \")\n",
    "print(X_test.head())\n",
    "\n",
    "# Tampilkan target data latih (y_train)\n",
    "print(\"\\nTarget Data Latih: \")\n",
    "print(y_train.head())\n",
    "\n",
    "# Tampilkan target data uji (y_test)\n",
    "print(\"\\nTarget Data Uji: \")\n",
    "print(y_test.head())"
   ]
  },
  {
   "cell_type": "markdown",
   "metadata": {},
   "source": [
    "**Data Latih**\n",
    "\n",
    "Data yang digunakan untuk melatih model, agar model dapat mengenali pola antar fitur (variabel bebas), dan variabel target (biaya medis). Dengan penjelasan sebagai berikut,\n",
    "* age: Usia pasien\n",
    "* bmi: Indeks massa tubuh yang mengukur proporsi berat badan terhadap tinggi badan\n",
    "* children: Jumlah anak yang dimiliki pasien\n",
    "* smoker: Status merokok pasien, dimana 0 berarti tidak merokok, dan 1 berarti merokok\n",
    "* region: Wilayah, dimana data telah di-encode menjadi angka (0, 1, 2)\n",
    "\n",
    "**Data Uji**\n",
    "\n",
    "Data yang digunakan untuk memvalidasi model yang telah dilatih, dan membantu mengevaluasi seberapa baik model tersebut mampu memprediksi biaya medis berdasarkan fitur yang diberikan.\n",
    "\n",
    "**Target Data Latih**\n",
    "\n",
    "Target data latih menunjukkan biaya medis untuk data latih (data pasien yang ada di bagian \"Data Latih\"). Misalnya, individu pada baris 560 yang berusia 46 tahun, memiliki BMI 19.95, dua anak, tidak merokok, dan tinggal di wilayah 1, memiliki biaya medis sebesar 9193.84.\n",
    "\n",
    "**Target Data Uji**\n",
    "\n",
    "Menunjukkan biaya medis dari rata uji yang digunakan untuk membandingkan dengan prediksi model. Misalnya, individu dengan ID 890 yang berusia 64 tahun, memiliki BMI 26.88, tidak memiliki anak, merokok, dan tinggal di wilayah 1, memiliki biaya medis sebesar 29330.98.\n"
   ]
  },
  {
   "cell_type": "markdown",
   "metadata": {},
   "source": [
    "**3. Lakukan feature scaling jika diperlukan.**"
   ]
  },
  {
   "cell_type": "markdown",
   "metadata": {},
   "source": [
    "Feature scaling dilakukan untuk memastikan bahwa variabel numerik ('age', 'bmi', 'children') berada dalam skala yang sama, sehingga tidak ada variabel yang mendominasi model. Variabel 'smoker', dan 'region' tidak perlu dilakukan feature scaling karena sudah dalam bentuk numerik."
   ]
  },
  {
   "cell_type": "code",
   "execution_count": 40,
   "metadata": {},
   "outputs": [
    {
     "name": "stdout",
     "output_type": "stream",
     "text": [
      "           age       bmi  children  smoker  region\n",
      "560   0.472227 -1.756525  0.734336       0       1\n",
      "1285  0.543313 -1.033082 -0.911192       0       0\n",
      "1142  0.898745 -0.943687 -0.911192       0       2\n",
      "969  -0.025379  0.622393  3.202629       0       2\n",
      "486   1.040918 -1.504893  1.557100       0       1\n"
     ]
    }
   ],
   "source": [
    "# Load Library\n",
    "from sklearn.preprocessing import StandardScaler\n",
    "\n",
    "scaler = StandardScaler()\n",
    "\n",
    "# Scaling pada numeric features: 'age', 'bmi', 'children'\n",
    "X_train_scaled = X_train.copy()\n",
    "X_test_scaled = X_test.copy()\n",
    "\n",
    "X_train_scaled[['age', 'bmi', 'children']] = scaler.fit_transform(X_train[['age', 'bmi', 'children']])\n",
    "X_test_scaled[['age', 'bmi', 'children']] = scaler.transform(X_test[['age', 'bmi', 'children']])\n",
    "\n",
    "# Tampilkan hasil scaling\n",
    "print(X_train_scaled.head())"
   ]
  },
  {
   "cell_type": "markdown",
   "metadata": {},
   "source": [
    "**age**\n",
    "\n",
    "Setelah scaling, usia yang awalnya berada dalam skala yang lebih besar (misalnya usia 46, 47 tahun) telah diubah menjadi skala yang lebih kecil dengan rata-rata 0. Misalnya, individu pada baris 560 yang usianya 46 tahun setelah di-scaling menjadi 0.472227.\n",
    "\n",
    "**bmi**\n",
    "\n",
    "Body Mass Index (BMI) di-scaling. Misalnya, individu pada baris 560 dengan BMI asli 19.95 setelah di-scaling menjadi -1.756525. Nilai negatif menunjukkan bahwa BMI individu tersebut berada di bawah rata-rata dari seluruh data.\n",
    "\n",
    "**children**\n",
    "\n",
    "Jumlah anak juga telah diubah skalanya. Misalnya, individu pada baris 560 memiliki 2 anak, dan setelah di-scaling nilainya menjadi 0.734336.\n",
    "\n",
    "\n",
    "**smoker dan region**\n",
    "\n",
    "Kedua fitur ini tidak di-scaling karena sudah diubah menjadi nilai numerik melalui proses encoding, dan mereka adalah fitur kategorikal (binary untuk smoker dan encoded untuk region). Nilai smoker tetap 0 atau 1, dan nilai region juga tetap 0, 1, atau 2 sesuai wilayah individu."
   ]
  },
  {
   "cell_type": "markdown",
   "metadata": {},
   "source": [
    "**4. Buat model multiple linear regression menggunakan Scikit-Learn.**"
   ]
  },
  {
   "cell_type": "markdown",
   "metadata": {},
   "source": [
    "Model multiple linear regression dibuat menggunakan LinearRegression dari Scikit-Learn."
   ]
  },
  {
   "cell_type": "code",
   "execution_count": 41,
   "metadata": {},
   "outputs": [],
   "source": [
    "# Load Library\n",
    "from sklearn.linear_model import LinearRegression\n",
    "\n",
    "# Buat model regresi linear\n",
    "model = LinearRegression()"
   ]
  },
  {
   "cell_type": "markdown",
   "metadata": {},
   "source": [
    "**5. Latih model pada data latih dan lakukan prediksi pada data uji.**"
   ]
  },
  {
   "cell_type": "markdown",
   "metadata": {},
   "source": [
    "Model dilatih menggunakan data latih, kemudian dilakukan prediksi biaya medis pada data uji."
   ]
  },
  {
   "cell_type": "code",
   "execution_count": 38,
   "metadata": {},
   "outputs": [],
   "source": [
    "# Latih model pada data latih\n",
    "model.fit(X_train_scaled, y_train)\n",
    "\n",
    "# Prediksi pada data uji\n",
    "y_pred = model.predict(X_test_scaled)"
   ]
  },
  {
   "cell_type": "markdown",
   "metadata": {},
   "source": [
    "**6. Evaluasi model dengan menghitung metrik seperti R-squared, MSE, dan MAE. Tampilkan hasil evaluasi.**"
   ]
  },
  {
   "cell_type": "markdown",
   "metadata": {},
   "source": [
    "Evaluasi model dilakukan menggunakan R-squared, Mean Squared Error (MSE), dan Mean Absolute Error (MAE).\n",
    "\n",
    "* R-squared: mengukur seberapa baik variabel bebas dapat menjelaskan variasi pada variabel target.\n",
    "* MSE: mengukur rata-rata kuadrat kesalahan prediksi.\n",
    "* MAE: mengukur rata-rata kesalahan absolut dari prediksi."
   ]
  },
  {
   "cell_type": "code",
   "execution_count": 46,
   "metadata": {},
   "outputs": [
    {
     "name": "stdout",
     "output_type": "stream",
     "text": [
      "R-squared: 0.7833112270019789\n",
      "Mean Squared Error (MSE): 33640657.13645164\n",
      "Mean Absolute Error (MAE): 4187.322474715382\n"
     ]
    }
   ],
   "source": [
    "# Load Library\n",
    "from sklearn.metrics import mean_squared_error, mean_absolute_error, r2_score\n",
    "\n",
    "# Hitung R-squared\n",
    "r2 = r2_score(y_test, y_pred)\n",
    "\n",
    "# Hitung Mean Squared Error (MSE)\n",
    "mse = mean_squared_error(y_test, y_pred)\n",
    "\n",
    "# Hitung Mean Absolute Error (MAE)\n",
    "mae = mean_absolute_error(y_test, y_pred)\n",
    "\n",
    "# Tampilkan hasil evaluasi\n",
    "print(f\"R-squared: {r2}\")\n",
    "print(f\"Mean Squared Error (MSE): {mse}\")\n",
    "print(f\"Mean Absolute Error (MAE): {mae}\")"
   ]
  },
  {
   "cell_type": "markdown",
   "metadata": {},
   "source": [
    "**Visualisasi data**\n",
    "\n",
    "Mengetahui hubungan antara fitur 'age' (usia) dengan 'charges' (biaya medis)"
   ]
  },
  {
   "cell_type": "code",
   "execution_count": 48,
   "metadata": {},
   "outputs": [
    {
     "data": {
      "image/png": "[encoded data removed]",
      "text/plain": [
       "<Figure size 640x480 with 1 Axes>"
      ]
     },
     "metadata": {},
     "output_type": "display_data"
    }
   ],
   "source": [
    "import matplotlib.pyplot as plt\n",
    "\n",
    "# Scatter plot antara umur dan biaya medis\n",
    "plt.scatter(X['age'], y)\n",
    "plt.xlabel('Age')\n",
    "plt.ylabel('Medical Charges')\n",
    "plt.title('Age vs Medical Charges')\n",
    "plt.show()\n"
   ]
  },
  {
   "cell_type": "markdown",
   "metadata": {},
   "source": [
    "Mengetahui hubungan antara fitur 'bmi' (indeks masa tubuh) dengan 'charges' (biaya medis)"
   ]
  },
  {
   "cell_type": "code",
   "execution_count": 43,
   "metadata": {},
   "outputs": [
    {
     "data": {
      "image/png": "[encoded data removed]",
      "text/plain": [
       "<Figure size 640x480 with 1 Axes>"
      ]
     },
     "metadata": {},
     "output_type": "display_data"
    }
   ],
   "source": [
    "# Scatter plot antara BMI dan biaya medis\n",
    "plt.scatter(X['bmi'], y, color='red')\n",
    "plt.xlabel('BMI')\n",
    "plt.ylabel('Medical Charges')\n",
    "plt.title('BMI vs Medical Charges')\n",
    "plt.show()"
   ]
  }
 ],
 "metadata": {
  "kernelspec": {
   "display_name": "base",
   "language": "python",
   "name": "python3"
  },
  "language_info": {
   "codemirror_mode": {
    "name": "ipython",
    "version": 3
   },
   "file_extension": ".py",
   "mimetype": "text/x-python",
   "name": "python",
   "nbconvert_exporter": "python",
   "pygments_lexer": "ipython3",
   "version": "3.12.3"
  }
 },
 "nbformat": 4,
 "nbformat_minor": 2
}
